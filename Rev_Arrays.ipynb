{
 "cells": [
  {
   "cell_type": "markdown",
   "id": "8273e135-11f0-4c4f-a0b1-65c37c36fbb5",
   "metadata": {},
   "source": [
    "# Hariom Singhal Puri "
   ]
  },
  {
   "cell_type": "raw",
   "id": "8f8ae086-c26f-4e29-a359-b9b6a70fb979",
   "metadata": {},
   "source": [
    "All U Need to know About Array."
   ]
  },
  {
   "cell_type": "code",
   "execution_count": 4,
   "id": "c2474e9c-7020-4d7d-844b-23227a08f0b9",
   "metadata": {},
   "outputs": [
    {
     "name": "stdout",
     "output_type": "stream",
     "text": [
      "[1 2 3 4 5]\n"
     ]
    }
   ],
   "source": [
    "import numpy as np\n",
    "# How to Create 1D array.\n",
    "list = [1,2,3,4,5]\n",
    "arr = np.array(list)   # this is a 1D Array\n",
    "print(arr)"
   ]
  },
  {
   "cell_type": "code",
   "execution_count": 6,
   "id": "fdacda8f-2806-4578-8632-a62ee03175cd",
   "metadata": {},
   "outputs": [
    {
     "data": {
      "text/plain": [
       "numpy.ndarray"
      ]
     },
     "execution_count": 6,
     "metadata": {},
     "output_type": "execute_result"
    }
   ],
   "source": [
    "type(arr)   # Type check krne ke liye"
   ]
  },
  {
   "cell_type": "code",
   "execution_count": 10,
   "id": "16aaa892-7ac7-456d-82b9-387b0f9abb59",
   "metadata": {},
   "outputs": [
    {
     "name": "stdout",
     "output_type": "stream",
     "text": [
      "[[11 12 13 15 16]\n",
      " [25 26 27 28 29]\n",
      " [32 33 34 36 39]]\n"
     ]
    }
   ],
   "source": [
    "# How to Create Multi-Dimensional or We can Say 2D array\n",
    "list1 = [11,12,13,15,16]\n",
    "list2 = [25,26,27,28,29]\n",
    "list3 = [32,33,34,36,39]\n",
    "arr1 = np.array([list1,list2,list3])\n",
    "print(arr1)"
   ]
  },
  {
   "cell_type": "code",
   "execution_count": 12,
   "id": "fb42213d-1ba1-4c4c-be24-201159f01c12",
   "metadata": {},
   "outputs": [
    {
     "data": {
      "text/plain": [
       "(3, 5)"
      ]
     },
     "execution_count": 12,
     "metadata": {},
     "output_type": "execute_result"
    }
   ],
   "source": [
    "arr1.shape    # This Will Tell You What is the Shape or We can Say Dimension of an Array\n",
    "# Remembers Arrays Rows and Columns always counted from 0 ."
   ]
  },
  {
   "cell_type": "code",
   "execution_count": 14,
   "id": "2d0b044f-4a64-4b73-ab92-643e970707ee",
   "metadata": {},
   "outputs": [
    {
     "name": "stdout",
     "output_type": "stream",
     "text": [
      "[1 2 9 4 5]\n",
      "[[11 12 13 15 16]\n",
      " [25 26 27 28 29]\n",
      " [32 12 34 36 39]]\n"
     ]
    }
   ],
   "source": [
    "# Changing the index of an array.\n",
    "arr[2] = 9    # for our 1D array.\n",
    "print(arr)\n",
    "arr1[2,1] = 12   # For our 2D array.\n",
    "print(arr1)"
   ]
  },
  {
   "cell_type": "raw",
   "id": "154a7e9a-da9c-4e02-bc63-689b761bd31e",
   "metadata": {},
   "source": [
    "Slicings in 1D Array."
   ]
  },
  {
   "cell_type": "code",
   "execution_count": 16,
   "id": "4724773c-06ae-4351-887a-b96970c0c844",
   "metadata": {},
   "outputs": [
    {
     "data": {
      "text/plain": [
       "array([1, 2, 9, 4, 5])"
      ]
     },
     "execution_count": 16,
     "metadata": {},
     "output_type": "execute_result"
    }
   ],
   "source": [
    "arr  # First We have to call our 1D array."
   ]
  },
  {
   "cell_type": "code",
   "execution_count": 15,
   "id": "75c2e094-ecd6-4b98-8901-db3e5582b0ea",
   "metadata": {},
   "outputs": [
    {
     "name": "stdout",
     "output_type": "stream",
     "text": [
      "9\n",
      "[9 4 5]\n",
      "[5 4 9 2 1]\n",
      "[1 9 5]\n"
     ]
    }
   ],
   "source": [
    "# Indexing in 1D array or arr\n",
    "print(arr[2])    # This will Directly tell what is the 3rd index in our 1st array.\n",
    "print(arr[2:])   # This will print the indexs from 3rd index to last index for 1D array.\n",
    "print(arr[::-1]) # This Will print a new Array which is reverse from the Previous one.\n",
    "print(arr[::2])  # This will give you a list in which indexes jumping in multiple of 2. "
   ]
  },
  {
   "cell_type": "code",
   "execution_count": 19,
   "id": "428cfe1e-e92e-4053-bcef-52ad4f10e469",
   "metadata": {},
   "outputs": [
    {
     "data": {
      "text/plain": [
       "array([[11, 12, 13, 15, 16],\n",
       "       [25, 26, 27, 28, 29],\n",
       "       [32, 12, 34, 36, 39]])"
      ]
     },
     "execution_count": 19,
     "metadata": {},
     "output_type": "execute_result"
    }
   ],
   "source": [
    "arr1   # First We have to call our 2D array."
   ]
  },
  {
   "cell_type": "code",
   "execution_count": 21,
   "id": "33f64714-cd77-4f27-8d16-2dfc18b9229a",
   "metadata": {},
   "outputs": [
    {
     "name": "stdout",
     "output_type": "stream",
     "text": [
      "12\n",
      "[12 26 12]\n",
      "[25 26 27 28 29]\n"
     ]
    }
   ],
   "source": [
    "# Indexing in 2D array or arr1\n",
    "print(arr1[2,1])  # This will tell you what is in the index of {3,2} for arr1. \n",
    "print(arr1[:,1])  # This Will Give you a new array of complete 1 column of arr1.\n",
    "print(arr1[1,:])  # This Will Give You a new array of complete 1 row of arr1."
   ]
  },
  {
   "cell_type": "raw",
   "id": "d4095258-2bfe-4820-bcc8-78176202185a",
   "metadata": {},
   "source": [
    "Like if we want a new array in arr1 of Dimension of 2X2 then "
   ]
  },
  {
   "cell_type": "code",
   "execution_count": 23,
   "id": "395ef729-6d1f-4490-aab2-484c9c612e52",
   "metadata": {},
   "outputs": [
    {
     "name": "stdout",
     "output_type": "stream",
     "text": [
      "[[26 27]\n",
      " [12 34]]\n"
     ]
    }
   ],
   "source": [
    "# using 1:  >>> this will del all items or we can we it will take all items except 1 row \n",
    "# using 1:3 >>> this will give us elements which are present on 1-2 in that column. \n",
    "print(arr1[1: ,1:3])  # This will Give you a 2D array of "
   ]
  },
  {
   "cell_type": "raw",
   "id": "4c205a98-9fc2-4fd2-a2e1-041a72d1b79f",
   "metadata": {},
   "source": [
    "Like if we want a new array in arr1 of Dimension of 1X3 then "
   ]
  },
  {
   "cell_type": "code",
   "execution_count": 25,
   "id": "7b0d4642-66c4-40fb-8cab-f1715e59ba72",
   "metadata": {},
   "outputs": [
    {
     "name": "stdout",
     "output_type": "stream",
     "text": [
      "[[34 36 39]]\n"
     ]
    }
   ],
   "source": [
    "# using 2:   >>> this will del all items except 3rd row.\n",
    "# using 2:5  >>> this will give us elemnts from 2 to 4 from 3rd column.\n",
    "print(arr1[2: ,2:5])"
   ]
  },
  {
   "cell_type": "raw",
   "id": "a6668db2-a11a-42ef-aaa2-bbcf2d161f98",
   "metadata": {},
   "source": [
    "Like if we want a new array in arr1 of Dimension of 3X2 then "
   ]
  },
  {
   "cell_type": "code",
   "execution_count": 27,
   "id": "e877ddc9-126c-4221-b551-d255c7ecfd6b",
   "metadata": {},
   "outputs": [
    {
     "name": "stdout",
     "output_type": "stream",
     "text": [
      "[[15 16]\n",
      " [28 29]\n",
      " [36 39]]\n"
     ]
    }
   ],
   "source": [
    "# using :   >>> this will take all the items from 0 to 2 row.\n",
    "# using 3:  >>> this will give us elemnts from .\n",
    "print(arr1[:,3:]) "
   ]
  },
  {
   "cell_type": "raw",
   "id": "43b6423c-5305-4ebe-a556-ef9b004946fd",
   "metadata": {},
   "source": [
    "Like if we want a new array in arr1 of Dimension of 3X2 of the first and last coloumn."
   ]
  },
  {
   "cell_type": "code",
   "execution_count": 29,
   "id": "51dd462a-e9c0-4899-8279-7fd9330ae635",
   "metadata": {},
   "outputs": [
    {
     "name": "stdout",
     "output_type": "stream",
     "text": [
      "[[11 16]\n",
      " [25 29]\n",
      " [32 39]]\n"
     ]
    }
   ],
   "source": [
    "# using :   >>> this will take all the items from 0 to 2 row.\n",
    "# using 0: :4  >>> this will give us elemnts from 1st coloumn and last column.\n",
    "print(arr1[:,0::4])"
   ]
  },
  {
   "cell_type": "raw",
   "id": "521cafc7-29d1-4620-800b-38625b57a8ab",
   "metadata": {},
   "source": [
    "Using Booleans in arrays:"
   ]
  },
  {
   "cell_type": "code",
   "execution_count": 31,
   "id": "51f4d7af-4c0d-48a9-b791-8b4dc4024c5f",
   "metadata": {},
   "outputs": [
    {
     "data": {
      "text/plain": [
       "array([1, 2, 9, 4, 5])"
      ]
     },
     "execution_count": 31,
     "metadata": {},
     "output_type": "execute_result"
    }
   ],
   "source": [
    "arr  # This will print our New Array."
   ]
  },
  {
   "cell_type": "code",
   "execution_count": 33,
   "id": "66c1760e-86ab-43e1-810c-5654170e4192",
   "metadata": {},
   "outputs": [
    {
     "name": "stdout",
     "output_type": "stream",
     "text": [
      "[False False  True  True  True]\n"
     ]
    },
    {
     "data": {
      "text/plain": [
       "array([9, 4, 5])"
      ]
     },
     "execution_count": 33,
     "metadata": {},
     "output_type": "execute_result"
    }
   ],
   "source": [
    "# If want a array from our arr which is greater than 2 then:\n",
    "print(arr>2)    # This will give us Booleans values \n",
    "arr[arr>2]      # This will create a new array only elements which is greater than 2."
   ]
  },
  {
   "cell_type": "raw",
   "id": "24fdb656-91fd-4fa9-9afe-ece22a00207c",
   "metadata": {},
   "source": [
    "Changing the dimension of aany array by using Built in function."
   ]
  },
  {
   "cell_type": "code",
   "execution_count": 35,
   "id": "f6306242-3de7-45b6-b86c-fa8cf8638f7d",
   "metadata": {},
   "outputs": [
    {
     "data": {
      "text/plain": [
       "array([[11, 12, 13],\n",
       "       [15, 16, 25],\n",
       "       [26, 27, 28],\n",
       "       [29, 32, 12],\n",
       "       [34, 36, 39]])"
      ]
     },
     "execution_count": 35,
     "metadata": {},
     "output_type": "execute_result"
    }
   ],
   "source": [
    "# Changing the dimension of arr1 (3X5) to (5X3)\n",
    "arr1.reshape(5,3)"
   ]
  },
  {
   "cell_type": "raw",
   "id": "18501029-e389-4bae-a4d2-8998d887c2ef",
   "metadata": {},
   "source": [
    "Creating arrays by putting values of start,stop,step :"
   ]
  },
  {
   "cell_type": "code",
   "execution_count": 37,
   "id": "8f65491e-65e1-45a4-9a6a-3e6b584e3a9a",
   "metadata": {},
   "outputs": [
    {
     "name": "stdout",
     "output_type": "stream",
     "text": [
      "[ 1  3  5  7  9 11 13 15]\n",
      "[[ 1  3  5  7]\n",
      " [ 9 11 13 15]]\n",
      "[[ 1  3]\n",
      " [ 5  7]\n",
      " [ 9 11]\n",
      " [13 15]]\n"
     ]
    }
   ],
   "source": [
    "# Creating a 1D array\n",
    "arr2 = np.arange(1,16,2)  # Numpy Directly create a array by user choice.\n",
    "print(arr2)\n",
    "\n",
    "# Now we can also reshape the array by our choice.\n",
    "arr3 = arr2.reshape(2,4)    # reshaping into dimension of 2X4.\n",
    "print(arr3)               \n",
    "arr4 = arr2.reshape(4,2)    # Reshaping into dimension of 4X2\n",
    "print(arr4)               "
   ]
  },
  {
   "cell_type": "raw",
   "id": "57d5f84a-8be3-4b52-9028-4d02a296f78a",
   "metadata": {},
   "source": [
    "Can We multiply or squares our arrays or any Other Calculation."
   ]
  },
  {
   "cell_type": "code",
   "execution_count": 39,
   "id": "48e1ea89-1318-4b4a-9a47-e9fea27db76f",
   "metadata": {},
   "outputs": [
    {
     "name": "stdout",
     "output_type": "stream",
     "text": [
      "[ 1  4 81 16 25]\n",
      "[ 2  4 18  8 10]\n"
     ]
    }
   ],
   "source": [
    "# Yes Bhai !!!!\n",
    "arr5 = arr*arr  # our 1st array is multiply by itself and give us a new array.\n",
    "print(arr5)\n",
    "arr6 = arr *2   # our 1st array is multiply by 2 and give us a new array.\n",
    "print(arr6)"
   ]
  },
  {
   "cell_type": "raw",
   "id": "df5da92e-89eb-40ae-9398-2e5b855bab26",
   "metadata": {},
   "source": [
    "Can we create a Array which contain only ones or zeros."
   ]
  },
  {
   "cell_type": "code",
   "execution_count": 41,
   "id": "9bc65ea0-bc6b-48cd-8681-f683200cf847",
   "metadata": {},
   "outputs": [
    {
     "name": "stdout",
     "output_type": "stream",
     "text": [
      "[[1. 1. 1.]\n",
      " [1. 1. 1.]\n",
      " [1. 1. 1.]]\n",
      "[[0. 0. 0.]\n",
      " [0. 0. 0.]\n",
      " [0. 0. 0.]]\n"
     ]
    }
   ],
   "source": [
    "# Yes Bro !!!\n",
    "arr7 = np.ones((3,3))\n",
    "print(arr7)\n",
    "arr8 = np.zeros((3,3))\n",
    "print(arr8)"
   ]
  },
  {
   "cell_type": "raw",
   "id": "6343540c-73c4-4888-a825-35ee23cc0090",
   "metadata": {},
   "source": [
    "Can We create a Random Array by Python and and Reshape it."
   ]
  },
  {
   "cell_type": "code",
   "execution_count": 43,
   "id": "0a258f09-5e82-4540-9944-58c1ba2be984",
   "metadata": {},
   "outputs": [
    {
     "data": {
      "text/plain": [
       "array([[25, 33, 62, 13, 73],\n",
       "       [38, 48,  7, 42, 69],\n",
       "       [38, 12, 49, 60, 45],\n",
       "       [85, 76, 46, 73,  2],\n",
       "       [44, 94, 91, 98, 27]])"
      ]
     },
     "execution_count": 43,
     "metadata": {},
     "output_type": "execute_result"
    }
   ],
   "source": [
    "# Kya bolu....Yes !!!\n",
    "# Generate kro aur reshape kro !!! Set Hai Boss.\n",
    "np.random.randint(1,100,25).reshape(5,5)"
   ]
  },
  {
   "cell_type": "code",
   "execution_count": null,
   "id": "89690ee6-759c-47a6-885c-64848d547bca",
   "metadata": {},
   "outputs": [],
   "source": []
  }
 ],
 "metadata": {
  "kernelspec": {
   "display_name": "Python 3 (ipykernel)",
   "language": "python",
   "name": "python3"
  },
  "language_info": {
   "codemirror_mode": {
    "name": "ipython",
    "version": 3
   },
   "file_extension": ".py",
   "mimetype": "text/x-python",
   "name": "python",
   "nbconvert_exporter": "python",
   "pygments_lexer": "ipython3",
   "version": "3.12.4"
  }
 },
 "nbformat": 4,
 "nbformat_minor": 5
}
